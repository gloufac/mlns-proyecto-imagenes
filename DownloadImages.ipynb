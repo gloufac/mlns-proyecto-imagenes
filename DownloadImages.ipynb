{
 "cells": [
  {
   "cell_type": "code",
   "execution_count": null,
   "metadata": {},
   "outputs": [],
   "source": [
    "## !pip install kaggle\n",
    "#Asegurarse de que el archivo kaggle.json esté en la carpeta:\n",
    "#- windows: C:\\Users\\<windows-username>\\.kaggle\\kaggle.json\n",
    "#- linux: ~/.kaggle/kaggle.json\n",
    "#- mac: ~/.kaggle/kaggle.json"
   ]
  },
  {
   "cell_type": "code",
   "execution_count": 1,
   "metadata": {},
   "outputs": [],
   "source": [
    "import kaggle"
   ]
  },
  {
   "cell_type": "code",
   "execution_count": 2,
   "metadata": {},
   "outputs": [
    {
     "name": "stdout",
     "output_type": "stream",
     "text": [
      "Abstract_Expressionism/aaron-siskind_acolman-1-1955.jpg\n",
      "Abstract_Expressionism/aaron-siskind_chicago-1951.jpg\n",
      "Abstract_Expressionism/aaron-siskind_chicago-6-1961.jpg\n",
      "Abstract_Expressionism/aaron-siskind_feet-102-1957.jpg\n",
      "Abstract_Expressionism/aaron-siskind_gloucester-16a-1944.jpg\n"
     ]
    }
   ],
   "source": [
    "## TEST: verifiar que se puede listar los archivos de un dataset\n",
    "dataset = \"steubk/wikiart\"\n",
    "files = kaggle.api.dataset_list_files(dataset).files\n",
    "image_files = [file.name for file in files if file.name.endswith(('.jpg', '.jpeg', '.png'))]\n",
    "\n",
    "for file in image_files[:5]:\n",
    "    print(file)\n",
    "\n",
    "## Liberar espacio\n",
    "files = None\n",
    "image_files = None"
   ]
  },
  {
   "cell_type": "code",
   "execution_count": 7,
   "metadata": {},
   "outputs": [
    {
     "name": "stdout",
     "output_type": "stream",
     "text": [
      "Images will be downloaded to wikiart_images\n"
     ]
    }
   ],
   "source": [
    "import os\n",
    "download_folder = \"wikiart_images\"  # Change this to your desired folder\n",
    "# Step 1: Ensure the folder exists\n",
    "os.makedirs(download_folder, exist_ok=True)\n",
    "print(f\"Images will be downloaded to {download_folder}\")"
   ]
  },
  {
   "cell_type": "code",
   "execution_count": 22,
   "metadata": {},
   "outputs": [
    {
     "name": "stdout",
     "output_type": "stream",
     "text": [
      "File Expressionism/adam-baltatu_olt-river-at-cozia.jpg already exists.\n",
      "Downloading New_Realism/edward-hopper_american-village.jpg...\n",
      "Dataset URL: https://www.kaggle.com/datasets/steubk/wikiart\n",
      "Downloading Romanticism/adolphe-joseph-thomas-monticelli_bouquet-of-flowers.jpg...\n",
      "Dataset URL: https://www.kaggle.com/datasets/steubk/wikiart\n",
      "File Rococo/allan-ramsay_portrait-of-king-george-iii.jpg already exists.\n"
     ]
    }
   ],
   "source": [
    "import matplotlib.pyplot as plt \n",
    "import skimage.io as io\n",
    "import cv2 as cv\n",
    "from PIL import Image\n",
    "\n",
    "dataset = \"steubk/wikiart\"\n",
    "image_files = []\n",
    "image_files.append(\"Expressionism/adam-baltatu_olt-river-at-cozia.jpg\")\n",
    "image_files.append(\"New_Realism/edward-hopper_american-village.jpg\")\n",
    "image_files.append(\"Romanticism/adolphe-joseph-thomas-monticelli_bouquet-of-flowers.jpg\")\n",
    "image_files.append(\"Rococo/allan-ramsay_portrait-of-king-george-iii.jpg\")\n",
    "\n",
    "for filename in image_files:\n",
    "    stri_filename = filename.split(\"/\")[-1]\n",
    "    downloadedimage = f\"{download_folder}/{stri_filename}\"\n",
    "    #print(downloadedimage)\n",
    "    if os.path.exists(downloadedimage):\n",
    "        print(f\"File {filename} already exists.\")\n",
    "        continue\n",
    "\n",
    "    print(f\"Downloading {filename}...\")\n",
    "    # Step 2: Download the specific image\n",
    "    kaggle.api.dataset_download_file(dataset, file_name=filename, path=download_folder)\n",
    "\n",
    "#full_image_path = f\"{dataset}/{image_files[0]}\"\n",
    "#print(full_image_path) "
   ]
  }
 ],
 "metadata": {
  "kernelspec": {
   "display_name": "base",
   "language": "python",
   "name": "python3"
  },
  "language_info": {
   "codemirror_mode": {
    "name": "ipython",
    "version": 3
   },
   "file_extension": ".py",
   "mimetype": "text/x-python",
   "name": "python",
   "nbconvert_exporter": "python",
   "pygments_lexer": "ipython3",
   "version": "3.12.4"
  }
 },
 "nbformat": 4,
 "nbformat_minor": 2
}
